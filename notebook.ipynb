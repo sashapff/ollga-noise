{
 "cells": [
  {
   "cell_type": "code",
   "execution_count": 25,
   "outputs": [],
   "source": [
    "import matplotlib.pyplot as plt\n",
    "import numpy as np"
   ],
   "metadata": {
    "collapsed": false,
    "pycharm": {
     "name": "#%%\n"
    }
   }
  },
  {
   "cell_type": "code",
   "execution_count": 27,
   "outputs": [],
   "source": [
    "def plot_hist(a, n, lmbd):\n",
    "    plt.title(f'n={n}, lambda={lmbd}')\n",
    "    plt.hist(a, bins=100)\n",
    "    plt.xlabel('Number of iterations')\n",
    "    plt.show()"
   ],
   "metadata": {
    "collapsed": false,
    "pycharm": {
     "name": "#%%\n"
    }
   }
  },
  {
   "cell_type": "markdown",
   "source": [
    "## Start with fitness $n - \\ln(n)$"
   ],
   "metadata": {
    "collapsed": false
   }
  },
  {
   "cell_type": "markdown",
   "source": [
    "n: 32\n",
    "lambda: 3\n",
    "Median: 207.0\n",
    "Mean: 384.3984375\n",
    "Std: 701.3845162855098\n",
    "Number of terminated evaluations (iters > n ^ 3): 0"
   ],
   "metadata": {
    "collapsed": false
   }
  },
  {
   "cell_type": "code",
   "execution_count": 48,
   "outputs": [
    {
     "data": {
      "text/plain": "<Figure size 432x288 with 1 Axes>",
      "image/png": "[encoded data removed]"
     },
     "metadata": {
      "needs_background": "light"
     },
     "output_type": "display_data"
    }
   ],
   "source": [
    "n = 32\n",
    "lmbd = 3\n",
    "a = np.array([ 178,  156,  149,   40,   99,  818,  270,  208,   79,   62,  153,  644,\n",
    "  238,  257,   65,  161,  465,   77,  212,  248,  296,  297,  391,  193,\n",
    "  457,  543,  125,  210,  176, 1596,  109,  188,  130,   30,  147,  107,\n",
    "  160,   61,  134, 3647,  304,  115,  134,   68,  165,  108,  140,  109,\n",
    " 1871,   25,  238, 1672,  424,  146,   87,  255,  335,  214,  110,  981,\n",
    "   74,   75,  113,  384,  654,  350,   55,  575,  277,  546,   58,   82,\n",
    "  880, 4389,  262,  207,  651,  217,  233,   78,  194,  222,  715,  378,\n",
    "  154,   88,   54,   66,   33,  322,  177,   95,  278,  128,  117,  413,\n",
    "  150,  312,  652,  212,  100,  265,  113,  889,   41,  120,  129,  576,\n",
    "  306,  166,  239,  311,  272,  313,   69,  380,  158,  559,  127,  270,\n",
    "  207,  267,  881, 5240,  339,   57,  711,  101])\n",
    "plot_hist(a, n, lmbd)"
   ],
   "metadata": {
    "collapsed": false,
    "pycharm": {
     "name": "#%%\n"
    }
   }
  },
  {
   "cell_type": "markdown",
   "source": [],
   "metadata": {
    "collapsed": false
   }
  },
  {
   "cell_type": "markdown",
   "source": [
    "n: 32\n",
    "lambda: 10\n",
    "Median: 46.5\n",
    "Mean: 96.5859375\n",
    "Std: 262.14033477270544\n",
    "Number of terminated evaluations (iters > n ^ 3): 0"
   ],
   "metadata": {
    "collapsed": false
   }
  },
  {
   "cell_type": "code",
   "execution_count": 51,
   "outputs": [
    {
     "data": {
      "text/plain": "<Figure size 432x288 with 1 Axes>",
      "image/png": "[encoded data removed]"
     },
     "metadata": {
      "needs_background": "light"
     },
     "output_type": "display_data"
    }
   ],
   "source": [
    "n = 32\n",
    "lmbd = 10\n",
    "a = np.array([  11,   18,   66,   59,   15,   69,   61,   91,   39,  136,   13,  568,\n",
    "   65,  179,   30,   82,   46,   97,   87,   50,   32,   32,   51,    8,\n",
    "   75,   31,  100,   42,   26,   44,   33,   16,   72,   37,   18,  352,\n",
    "   30,   47,   21,   35,   27,  116, 2848,   91,   22,   22,   50,   89,\n",
    "   42,   65,   54,   88,   50,   61,   15,   39,   17,   17,   46,   19,\n",
    "  107,   38,   17,   31,   93,   61,   22,  314,   77,   38,   20,   15,\n",
    "   57,   32,   11,   27,  112,   45,   54,  180,  115,  114,   20,   16,\n",
    "  119,  379,  170,   64,   77,   12,  529,   34,   64,  135,   61,  502,\n",
    "   12,  246,   38,   25,   30,   24,   95,   30,   51,   45,   49,   20,\n",
    "   36,    8,   80,   22,   10,   33,  104,   76,   51,   99,  324,   19,\n",
    "   79,   39,   79,   30,   32,   63,   61,   29])\n",
    "plot_hist(a, n, lmbd)"
   ],
   "metadata": {
    "collapsed": false,
    "pycharm": {
     "name": "#%%\n"
    }
   }
  },
  {
   "cell_type": "markdown",
   "source": [],
   "metadata": {
    "collapsed": false
   }
  },
  {
   "cell_type": "code",
   "execution_count": null,
   "outputs": [],
   "source": [],
   "metadata": {
    "collapsed": false,
    "pycharm": {
     "name": "#%%\n"
    }
   }
  },
  {
   "cell_type": "markdown",
   "source": [
    "## Start with random fitness"
   ],
   "metadata": {
    "collapsed": false
   }
  },
  {
   "cell_type": "code",
   "execution_count": 35,
   "outputs": [
    {
     "data": {
      "text/plain": "<Figure size 432x288 with 1 Axes>",
      "image/png": "[encoded data removed]"
     },
     "metadata": {
      "needs_background": "light"
     },
     "output_type": "display_data"
    }
   ],
   "source": [
    "n = 64\n",
    "lmbd = 15\n",
    "a = np.array([   600,    414,   1412,    255,   1199,    241,    741,   1223,    260,\n",
    "    345,    216,    565,   6135,    292,    724,    938,    426,    530,\n",
    "    344,    353,    898,   4286,    557,    259,    573,    573,   1300,\n",
    "    935,    400,    310,    808,   1874,   1632,    987,    182,    231,\n",
    "   1261,   3325,    537,   1874,    327,    402,   1714,   1282,    341,\n",
    "    427,    174,    630,    944,   1399,    556,    296,    416,    287,\n",
    "    966,    437,   1217,   2974,    657,   1754,    299,    982,  35755,\n",
    "    831,   1442,    389,   2121,    656,    625,   1954,    318,    692,\n",
    "    771,    865,   1669,    268,    240,    914,    546,    485,    393,\n",
    "    326,    281,   4876,    292,   1198,    354,    283,   1154,    284,\n",
    "   1556,    821,    151,   2488,    433,    463,    287,    281,    729,\n",
    "    432,    411,    474,   3782,    487,    743,    539,    451,    896,\n",
    "    580,    313,   1709,   1463,    454,    309,    526,   2306,   1708,\n",
    "    238,  28669,    184,   1089, 236753,   2026,    913,    259,    137,\n",
    "    533,    398])\n",
    "plot_hist(a[a < 10000], n, lmbd)"
   ],
   "metadata": {
    "collapsed": false,
    "pycharm": {
     "name": "#%%\n"
    }
   }
  },
  {
   "cell_type": "code",
   "execution_count": 39,
   "outputs": [
    {
     "data": {
      "text/plain": "<Figure size 432x288 with 1 Axes>",
      "image/png": "[encoded data removed]"
     },
     "metadata": {
      "needs_background": "light"
     },
     "output_type": "display_data"
    }
   ],
   "source": [
    "n = 64\n",
    "lmbd = 4\n",
    "a = np.array([ 42750,   4810,  21125,  37334,   5631,   9024,   2040,   2350,  13181,\n",
    "   9500,  50653,   2659,   2322,   2582,   1146,   3559,   5386,   1109,\n",
    "  10766,   2382,   3911,   3462,   2903,    622,   4038,   1421,   1663,\n",
    "   1311,    979,   1074,  31189,   2643,  18857,   7354,   1756,    216,\n",
    "   3435,   6589,   3841,   9397,   2595,   2129,   1092,   1982,   4756,\n",
    "   1705,    561,   1486,   6177,  14381,   2661,   4398,   2967,   8908,\n",
    "   4375,   3604,   1035,   5142,   5081,   2348,   2988,  18236,   1386,\n",
    "   1915,   2410,   5272,   2295,   1627,  26159,   3680,  13477,   2038,\n",
    "   4872,   1929,  87383,   1791,   3189,   3998,   5323,   9927,   2250,\n",
    "   1131,    636,   1152,   3455,   3167,   1237,   2230,   1486,   4097,\n",
    "   6405,   1185,  87067,   2145, 262144, 103254,    820,   6012,  21208,\n",
    "   1323,    941,   3468,   3222,   2844,   5199,   1384,   1669,  20768,\n",
    "   3569,   6085,   7413,   6207,   4815,   8318,   2844,   1309,    828,\n",
    "    737,   3736,   4250,   7597,   2335,   2764,   3456,   3439,   1874,\n",
    "   9457,   3190])\n",
    "plot_hist(a[a < 50000], n, lmbd)"
   ],
   "metadata": {
    "collapsed": false,
    "pycharm": {
     "name": "#%%\n"
    }
   }
  },
  {
   "cell_type": "code",
   "execution_count": 41,
   "outputs": [
    {
     "data": {
      "text/plain": "<Figure size 432x288 with 1 Axes>",
      "image/png": "[encoded data removed]"
     },
     "metadata": {
      "needs_background": "light"
     },
     "output_type": "display_data"
    }
   ],
   "source": [
    "n = 32\n",
    "lmbd = 3\n",
    "a = np.array([5773,  156,  235,  901,  119,  566,  145,  674,  941,   91,   61,  215,\n",
    "  156,  214,  293,  245, 1101, 1592,  132,  219,  200,   84,  140,   78,\n",
    " 1400,  224, 1338,  218,  121,  158, 3147,  137,  226,  456,  153,  157,\n",
    "  235,  246,  395,  175,   91,  111,  119,  310,  371,  250,  957,  243,\n",
    "  266,  590, 3671,  244,  507,  681,  154,  254,  185,  124,  522,  339,\n",
    "  406,  281,  160,   82,  679,  345,  529,  429,  309,   37,  151,  132,\n",
    "  596,  476,  348,  446,  256,  204,  527,  420,  295,  304,  531, 1877,\n",
    "  204,  210,  343,  340,  234,  284,   99,  297,  405,  188,  331,  842,\n",
    "  149,  965,  166,  243,  234,  241,  240,  140,  158,  230,  375,  167,\n",
    "   99,  254,  383,  146,   76,  147,  694,  661, 1456,  194,  119,  229,\n",
    "  981,  113,   81,  710,  121,  121,  475,  153])\n",
    "plot_hist(a[a < 3000], n, lmbd)"
   ],
   "metadata": {
    "collapsed": false,
    "pycharm": {
     "name": "#%%\n"
    }
   }
  },
  {
   "cell_type": "code",
   "execution_count": 44,
   "outputs": [
    {
     "data": {
      "text/plain": "<Figure size 432x288 with 1 Axes>",
      "image/png": "[encoded data removed]"
     },
     "metadata": {
      "needs_background": "light"
     },
     "output_type": "display_data"
    }
   ],
   "source": [
    "n = 32\n",
    "lmbd = 10\n",
    "a = np.array([  137,    38,   222,    43,   471,    39,   184,   191,    82,   108,\n",
    "    44,    38,    27,    99,   153,    59,   280,   121,    47,    42,\n",
    "    28,    40,    69,   177,    32,    25,    35,    50,    48,    31,\n",
    "    92,   314,    70,    48,    40,    35,    48,   279,    61,    90,\n",
    "    28,    58,    33,    43,    24,    71,   107,   185,    25,    45,\n",
    "    78,    20,   145,    43,   191,    44,    27,    35,    23,   157,\n",
    "    80,    42,   108,    67,    51,    22,   156,    62,    49,    49,\n",
    "    43,    55,    59,   171,    40,    47,    47,    54,   150,   119,\n",
    "    78,   126,   112,   134,   163,    97,   128,    21,    45,    72,\n",
    "    29,   111,    90,    59,    35,   130,    89,    40,   259,    17,\n",
    "    49,    28,    68,   126,    88, 30484,    67,    30,    31,    54,\n",
    "    45,   186,    59,    90,   110,    59,    63,    40,   153,    54,\n",
    "   160,    63,    69,   113,    49,    36,   160,   131])\n",
    "plot_hist(a[a < 30000], n, lmbd)"
   ],
   "metadata": {
    "collapsed": false,
    "pycharm": {
     "name": "#%%\n"
    }
   }
  }
 ],
 "metadata": {
  "kernelspec": {
   "display_name": "Python 3",
   "language": "python",
   "name": "python3"
  },
  "language_info": {
   "codemirror_mode": {
    "name": "ipython",
    "version": 2
   },
   "file_extension": ".py",
   "mimetype": "text/x-python",
   "name": "python",
   "nbconvert_exporter": "python",
   "pygments_lexer": "ipython2",
   "version": "2.7.6"
  }
 },
 "nbformat": 4,
 "nbformat_minor": 0
}